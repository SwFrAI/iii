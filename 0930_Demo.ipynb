{
 "cells": [
  {
   "cell_type": "code",
   "execution_count": 3,
   "metadata": {
    "collapsed": false
   },
   "outputs": [
    {
     "name": "stdout",
     "output_type": "stream",
     "text": [
      "5.0 6.0 1.0 1.5\n"
     ]
    }
   ],
   "source": [
    "a = 3.0\n",
    "b = 2.0\n",
    "print a + b ,a * b, a - b, a / b"
   ]
  },
  {
   "cell_type": "code",
   "execution_count": 1,
   "metadata": {
    "collapsed": false
   },
   "outputs": [
    {
     "data": {
      "text/plain": [
       "2"
      ]
     },
     "execution_count": 1,
     "metadata": {},
     "output_type": "execute_result"
    }
   ],
   "source": [
    "a = 7 \n",
    "b = 5\n",
    "\n",
    "a % b"
   ]
  },
  {
   "cell_type": "code",
   "execution_count": 13,
   "metadata": {
    "collapsed": false
   },
   "outputs": [
    {
     "name": "stdout",
     "output_type": "stream",
     "text": [
      "a + b = 12\n"
     ]
    }
   ],
   "source": [
    "print \"a + b = \" + str(a + b)"
   ]
  },
  {
   "cell_type": "code",
   "execution_count": 14,
   "metadata": {
    "collapsed": false
   },
   "outputs": [
    {
     "data": {
      "text/plain": [
       "int"
      ]
     },
     "execution_count": 14,
     "metadata": {},
     "output_type": "execute_result"
    }
   ],
   "source": [
    "type(a+b)"
   ]
  },
  {
   "cell_type": "code",
   "execution_count": 2,
   "metadata": {
    "collapsed": false
   },
   "outputs": [
    {
     "name": "stdout",
     "output_type": "stream",
     "text": [
      "16\n"
     ]
    }
   ],
   "source": [
    "a = 2\n",
    "b = 4\n",
    "print a**b"
   ]
  },
  {
   "cell_type": "code",
   "execution_count": 100,
   "metadata": {
    "collapsed": false
   },
   "outputs": [
    {
     "name": "stdout",
     "output_type": "stream",
     "text": [
      "<type 'str'> <type 'int'>\n"
     ]
    }
   ],
   "source": [
    "a = \"Hello world!\"\n",
    "b = 100\n",
    "\n",
    "print type(a),type(b)"
   ]
  },
  {
   "cell_type": "code",
   "execution_count": 125,
   "metadata": {
    "collapsed": false
   },
   "outputs": [
    {
     "name": "stdout",
     "output_type": "stream",
     "text": [
      "aaaaaaaaaaaaaaaaaaabbbbbbbbbbbbbbbbbbbbbbbbbbccccccccccccccccccccccccccccccccccccc\n",
      "\n",
      "ddddddddddd\n",
      "eeeeeeeeeeeee\n",
      "fffffffffffff\n",
      "ggggggggg\n",
      "\n"
     ]
    }
   ],
   "source": [
    "a = \"aaaaaaaaaaaaaaaaaaabbbbbbbbbbbbbbbbbbbbbbbbbb\\\n",
    "ccccccccccccccccccccccccccccccccccccc\"\n",
    "print a\n",
    "b = '''\n",
    "ddddddddddd\n",
    "eeeeeeeeeeeee\n",
    "fffffffffffff\n",
    "ggggggggg\n",
    "'''\n",
    "print b\n",
    "\n",
    "#########################練習10min#########################"
   ]
  },
  {
   "cell_type": "code",
   "execution_count": 18,
   "metadata": {
    "collapsed": false
   },
   "outputs": [
    {
     "name": "stdout",
     "output_type": "stream",
     "text": [
      "H\n",
      "llo\n",
      "lo world!\n",
      "!\n",
      " olle\n",
      "!dlrow olleH\n",
      "Hello world!Hello world!\n",
      "Hello world!123\n"
     ]
    }
   ],
   "source": [
    "# 字串索引\n",
    "a = \"Hello world!\"\n",
    "print a[0]\n",
    "print a[2:5]\n",
    "print a[3:]\n",
    "print a[-1]\n",
    "print a[5:0:-1] #for(i = 5; i < 0; i--)\n",
    "print a[::-1]   \n",
    "print a * 2\n",
    "print a + '123'"
   ]
  },
  {
   "cell_type": "code",
   "execution_count": 45,
   "metadata": {
    "collapsed": false
   },
   "outputs": [
    {
     "name": "stdout",
     "output_type": "stream",
     "text": [
      "he's a jerk\n",
      "he's a jerk\ttest\n",
      "\"hey now\"\n"
     ]
    }
   ],
   "source": [
    "s1 = \"he's a jerk\"\n",
    "print s1\n",
    "s2 = \"he\\'s a jerk\\ttest\"\n",
    "print s2\n",
    "s3 = \"\\\"hey now\\\"\"\n",
    "print s3"
   ]
  },
  {
   "cell_type": "code",
   "execution_count": 126,
   "metadata": {
    "collapsed": false
   },
   "outputs": [
    {
     "name": "stdout",
     "output_type": "stream",
     "text": [
      "this is a string \t with format \n",
      " this is a new line\n",
      "----------\n",
      "'this is a string \\t with format \\n this is a new line'\n"
     ]
    }
   ],
   "source": [
    "a = 'this is a string \\t with format \\n this is a new line'\n",
    "\n",
    "print a \n",
    "print '----------'\n",
    "print repr(a)"
   ]
  },
  {
   "cell_type": "code",
   "execution_count": 128,
   "metadata": {
    "collapsed": false
   },
   "outputs": [
    {
     "name": "stdout",
     "output_type": "stream",
     "text": [
      "0\n"
     ]
    }
   ],
   "source": [
    "import random\n",
    "\n",
    "#help(random)\n",
    "\n",
    "a = random.randint(0,10)\n",
    "print a"
   ]
  },
  {
   "cell_type": "code",
   "execution_count": 43,
   "metadata": {
    "collapsed": false
   },
   "outputs": [
    {
     "name": "stdout",
     "output_type": "stream",
     "text": [
      "['BPF', 'LOG4', 'NV_MAGICCONST', 'RECIP_BPF', 'Random', 'SG_MAGICCONST', 'SystemRandom', 'TWOPI', 'WichmannHill', '_BuiltinMethodType', '_MethodType', '__all__', '__builtins__', '__doc__', '__file__', '__name__', '__package__', '_acos', '_ceil', '_cos', '_e', '_exp', '_hashlib', '_hexlify', '_inst', '_log', '_pi', '_random', '_sin', '_sqrt', '_test', '_test_generator', '_urandom', '_warn', 'betavariate', 'choice', 'division', 'expovariate', 'gammavariate', 'gauss', 'getrandbits', 'getstate', 'jumpahead', 'lognormvariate', 'normalvariate', 'paretovariate', 'randint', 'random', 'randrange', 'sample', 'seed', 'setstate', 'shuffle', 'triangular', 'uniform', 'vonmisesvariate', 'weibullvariate']\n"
     ]
    }
   ],
   "source": [
    "print dir(random)"
   ]
  },
  {
   "cell_type": "code",
   "execution_count": 129,
   "metadata": {
    "collapsed": false
   },
   "outputs": [],
   "source": [
    "random.random?"
   ]
  },
  {
   "cell_type": "code",
   "execution_count": 131,
   "metadata": {
    "collapsed": false
   },
   "outputs": [
    {
     "name": "stdout",
     "output_type": "stream",
     "text": [
      "0.53534308786\n"
     ]
    }
   ],
   "source": [
    "print random.random()"
   ]
  },
  {
   "cell_type": "code",
   "execution_count": 9,
   "metadata": {
    "collapsed": false,
    "scrolled": true
   },
   "outputs": [
    {
     "data": {
      "text/plain": [
       "['__add__',\n",
       " '__class__',\n",
       " '__contains__',\n",
       " '__delattr__',\n",
       " '__doc__',\n",
       " '__eq__',\n",
       " '__format__',\n",
       " '__ge__',\n",
       " '__getattribute__',\n",
       " '__getitem__',\n",
       " '__getnewargs__',\n",
       " '__getslice__',\n",
       " '__gt__',\n",
       " '__hash__',\n",
       " '__init__',\n",
       " '__le__',\n",
       " '__len__',\n",
       " '__lt__',\n",
       " '__mod__',\n",
       " '__mul__',\n",
       " '__ne__',\n",
       " '__new__',\n",
       " '__reduce__',\n",
       " '__reduce_ex__',\n",
       " '__repr__',\n",
       " '__rmod__',\n",
       " '__rmul__',\n",
       " '__setattr__',\n",
       " '__sizeof__',\n",
       " '__str__',\n",
       " '__subclasshook__',\n",
       " '_formatter_field_name_split',\n",
       " '_formatter_parser',\n",
       " 'capitalize',\n",
       " 'center',\n",
       " 'count',\n",
       " 'decode',\n",
       " 'encode',\n",
       " 'endswith',\n",
       " 'expandtabs',\n",
       " 'find',\n",
       " 'format',\n",
       " 'index',\n",
       " 'isalnum',\n",
       " 'isalpha',\n",
       " 'isdigit',\n",
       " 'islower',\n",
       " 'isspace',\n",
       " 'istitle',\n",
       " 'isupper',\n",
       " 'join',\n",
       " 'ljust',\n",
       " 'lower',\n",
       " 'lstrip',\n",
       " 'partition',\n",
       " 'replace',\n",
       " 'rfind',\n",
       " 'rindex',\n",
       " 'rjust',\n",
       " 'rpartition',\n",
       " 'rsplit',\n",
       " 'rstrip',\n",
       " 'split',\n",
       " 'splitlines',\n",
       " 'startswith',\n",
       " 'strip',\n",
       " 'swapcase',\n",
       " 'title',\n",
       " 'translate',\n",
       " 'upper',\n",
       " 'zfill']"
      ]
     },
     "execution_count": 9,
     "metadata": {},
     "output_type": "execute_result"
    }
   ],
   "source": [
    "dir(str)"
   ]
  },
  {
   "cell_type": "code",
   "execution_count": 132,
   "metadata": {
    "collapsed": false
   },
   "outputs": [
    {
     "name": "stdout",
     "output_type": "stream",
     "text": [
      "aBcE H T Rh\n",
      "abce h t rh\n",
      "ABCE H T RH\n"
     ]
    }
   ],
   "source": [
    "a = \"ABcE H T Rh\"\n",
    "print a.replace(\"A\",\"a\")\n",
    "print a.lower()\n",
    "print a.upper()\n",
    "\n",
    "#################練習10min######################"
   ]
  },
  {
   "cell_type": "code",
   "execution_count": 136,
   "metadata": {
    "collapsed": false
   },
   "outputs": [
    {
     "name": "stdout",
     "output_type": "stream",
     "text": [
      "<type 'float'>\n",
      "8\n"
     ]
    }
   ],
   "source": [
    "a = 4.5\n",
    "b = 4\n",
    "print type(a+b)\n",
    "print int(a+b)"
   ]
  },
  {
   "cell_type": "code",
   "execution_count": 80,
   "metadata": {
    "collapsed": false
   },
   "outputs": [
    {
     "name": "stdout",
     "output_type": "stream",
     "text": [
      "0.333333333333\n"
     ]
    }
   ],
   "source": [
    "a = 1.0\n",
    "b = 3.0\n",
    "print a/b"
   ]
  },
  {
   "cell_type": "code",
   "execution_count": 81,
   "metadata": {
    "collapsed": false
   },
   "outputs": [
    {
     "ename": "ZeroDivisionError",
     "evalue": "integer division or modulo by zero",
     "output_type": "error",
     "traceback": [
      "\u001b[1;31m---------------------------------------------------------------------------\u001b[0m",
      "\u001b[1;31mZeroDivisionError\u001b[0m                         Traceback (most recent call last)",
      "\u001b[1;32m<ipython-input-81-a169bdba1a32>\u001b[0m in \u001b[0;36m<module>\u001b[1;34m()\u001b[0m\n\u001b[1;32m----> 1\u001b[1;33m \u001b[1;32mprint\u001b[0m \u001b[1;36m3\u001b[0m \u001b[1;33m/\u001b[0m \u001b[1;36m0\u001b[0m\u001b[1;33m\u001b[0m\u001b[0m\n\u001b[0m",
      "\u001b[1;31mZeroDivisionError\u001b[0m: integer division or modulo by zero"
     ]
    }
   ],
   "source": [
    "print 3 / 0"
   ]
  },
  {
   "cell_type": "code",
   "execution_count": 82,
   "metadata": {
    "collapsed": false
   },
   "outputs": [
    {
     "name": "stdout",
     "output_type": "stream",
     "text": [
      "error\n"
     ]
    }
   ],
   "source": [
    "#try/except  檢測try中是否有錯誤，有則執行except\n",
    "try:\n",
    "    print 3/0\n",
    "except:\n",
    "    print \"error\""
   ]
  },
  {
   "cell_type": "code",
   "execution_count": 83,
   "metadata": {
    "collapsed": true
   },
   "outputs": [
    {
     "name": "stdout",
     "output_type": "stream",
     "text": [
      "How are you?fine\n"
     ]
    },
    {
     "data": {
      "text/plain": [
       "'fine'"
      ]
     },
     "execution_count": 83,
     "metadata": {},
     "output_type": "execute_result"
    }
   ],
   "source": [
    "raw_input(\"How are you?\")"
   ]
  },
  {
   "cell_type": "code",
   "execution_count": 85,
   "metadata": {
    "collapsed": false
   },
   "outputs": [
    {
     "name": "stdout",
     "output_type": "stream",
     "text": [
      "How are you?cool\n"
     ]
    }
   ],
   "source": [
    "answer = raw_input(\"How are you?\")"
   ]
  },
  {
   "cell_type": "code",
   "execution_count": 87,
   "metadata": {
    "collapsed": false
   },
   "outputs": [
    {
     "name": "stdout",
     "output_type": "stream",
     "text": [
      "cool\n"
     ]
    }
   ],
   "source": [
    "print answer"
   ]
  },
  {
   "cell_type": "code",
   "execution_count": 2,
   "metadata": {
    "collapsed": false
   },
   "outputs": [
    {
     "name": "stdout",
     "output_type": "stream",
     "text": [
      "What's your name? sam\n",
      "Your name again?\n"
     ]
    }
   ],
   "source": [
    "name = raw_input(\"What's your name? \")\n",
    "if name == \"Sam\":\n",
    "    print \"Nice to meet you! \" + name\n",
    "else:\n",
    "    print \"Your name again?\""
   ]
  },
  {
   "cell_type": "code",
   "execution_count": 145,
   "metadata": {
    "collapsed": false
   },
   "outputs": [
    {
     "name": "stdout",
     "output_type": "stream",
     "text": [
      "What's your name? SAM\n",
      "Nice to meet you! Sam\n"
     ]
    }
   ],
   "source": [
    "name = raw_input(\"What's your name? \")\n",
    "if name.lower() == \"sam\":\n",
    "    print \"Nice to meet you! \" + name.capitalize()\n",
    "else:\n",
    "    print \"Your name again?\""
   ]
  },
  {
   "cell_type": "code",
   "execution_count": 3,
   "metadata": {
    "collapsed": false
   },
   "outputs": [],
   "source": [
    "str.capitalize?"
   ]
  },
  {
   "cell_type": "code",
   "execution_count": 4,
   "metadata": {
    "collapsed": false,
    "scrolled": true
   },
   "outputs": [
    {
     "name": "stdout",
     "output_type": "stream",
     "text": [
      "My name is Sam, I am 28 year's old\n",
      "My name is Sam, I am 28 year's old\n",
      "My name is Sam, I am 28 year's old\n"
     ]
    }
   ],
   "source": [
    "name = \"Sam\"\n",
    "age = 28\n",
    "\n",
    "\n",
    "print \"My name is \" + name + \", I am \" + str(age) + \" year's old\"\n",
    "\n",
    "print \"My name is {}, I am {} year's old\".format(name,age)\n",
    "\n",
    "print \"My name is %s, I am %d year's old\"%(name,age)\n",
    "\n",
    "############練習10min##############"
   ]
  },
  {
   "cell_type": "code",
   "execution_count": 152,
   "metadata": {
    "collapsed": false
   },
   "outputs": [
    {
     "name": "stdout",
     "output_type": "stream",
     "text": [
      "0\n",
      "1\n",
      "2\n",
      "3\n",
      "4\n",
      "5\n",
      "6\n",
      "7\n",
      "8\n",
      "9\n"
     ]
    }
   ],
   "source": [
    "for x in xrange(0,10):\n",
    "    print x"
   ]
  },
  {
   "cell_type": "code",
   "execution_count": 10,
   "metadata": {
    "collapsed": false
   },
   "outputs": [
    {
     "name": "stdout",
     "output_type": "stream",
     "text": [
      "https://www.ptt.cc/bbs/MobileComm/index4180.html\n",
      "https://www.ptt.cc/bbs/MobileComm/index4181.html\n",
      "https://www.ptt.cc/bbs/MobileComm/index4182.html\n",
      "https://www.ptt.cc/bbs/MobileComm/index4183.html\n",
      "https://www.ptt.cc/bbs/MobileComm/index4184.html\n",
      "https://www.ptt.cc/bbs/MobileComm/index4185.html\n",
      "https://www.ptt.cc/bbs/MobileComm/index4186.html\n",
      "https://www.ptt.cc/bbs/MobileComm/index4187.html\n",
      "https://www.ptt.cc/bbs/MobileComm/index4188.html\n",
      "https://www.ptt.cc/bbs/MobileComm/index4189.html\n"
     ]
    }
   ],
   "source": [
    "url = \"https://www.ptt.cc/bbs/MobileComm/index{}.html\"\n",
    "\n",
    "for i in xrange(4180,4190):\n",
    "    #print url\n",
    "    print url.format(i)"
   ]
  },
  {
   "cell_type": "code",
   "execution_count": 134,
   "metadata": {
    "collapsed": false
   },
   "outputs": [
    {
     "name": "stdout",
     "output_type": "stream",
     "text": [
      "55\n"
     ]
    }
   ],
   "source": [
    "s = 0\n",
    "for i in xrange(1,11):\n",
    "    s = s + i\n",
    "    \n",
    "print s"
   ]
  },
  {
   "cell_type": "code",
   "execution_count": 138,
   "metadata": {
    "collapsed": false
   },
   "outputs": [
    {
     "name": "stdout",
     "output_type": "stream",
     "text": [
      "25\n"
     ]
    }
   ],
   "source": [
    "s = 0\n",
    "for i in xrange(1,11,2):\n",
    "    s += i \n",
    "    \n",
    "print s\n"
   ]
  },
  {
   "cell_type": "code",
   "execution_count": 36,
   "metadata": {
    "collapsed": false
   },
   "outputs": [
    {
     "name": "stdout",
     "output_type": "stream",
     "text": [
      "0\n",
      "1\n",
      "2\n",
      "4\n",
      "5\n",
      "6\n",
      "7\n",
      "8\n"
     ]
    }
   ],
   "source": [
    "for x in xrange(0,20):\n",
    "    if x == 3:\n",
    "        continue   \n",
    "    if x == 9:\n",
    "        break\n",
    "    print x    "
   ]
  },
  {
   "cell_type": "code",
   "execution_count": null,
   "metadata": {
    "collapsed": false
   },
   "outputs": [],
   "source": []
  },
  {
   "cell_type": "code",
   "execution_count": 37,
   "metadata": {
    "collapsed": false
   },
   "outputs": [
    {
     "name": "stdout",
     "output_type": "stream",
     "text": [
      "55\n"
     ]
    }
   ],
   "source": [
    "#while 通常用在不知道何時結束\n",
    "i = 0\n",
    "s = 0\n",
    "while(i < 11):\n",
    "    s += i\n",
    "    i += 1\n",
    "print s\n",
    "    "
   ]
  },
  {
   "cell_type": "code",
   "execution_count": 3,
   "metadata": {
    "collapsed": false
   },
   "outputs": [
    {
     "data": {
      "text/plain": [
       "55"
      ]
     },
     "execution_count": 3,
     "metadata": {},
     "output_type": "execute_result"
    }
   ],
   "source": [
    "sum(xrange(1,11))"
   ]
  },
  {
   "cell_type": "code",
   "execution_count": 23,
   "metadata": {
    "collapsed": false
   },
   "outputs": [
    {
     "name": "stdout",
     "output_type": "stream",
     "text": [
      "I am a loop\n"
     ]
    }
   ],
   "source": [
    "loop_condition = True\n",
    "\n",
    "while loop_condition:\n",
    "    print \"I am a loop\"\n",
    "    loop_condition = False"
   ]
  },
  {
   "cell_type": "code",
   "execution_count": 24,
   "metadata": {
    "collapsed": false
   },
   "outputs": [
    {
     "name": "stdout",
     "output_type": "stream",
     "text": [
      "0\n",
      "1\n",
      "2\n",
      "3\n",
      "4\n",
      "5\n",
      "6\n",
      "7\n",
      "8\n",
      "9\n"
     ]
    }
   ],
   "source": [
    "count = 0\n",
    "while count < 10:\n",
    "    print count\n",
    "    count += 1"
   ]
  },
  {
   "cell_type": "code",
   "execution_count": 25,
   "metadata": {
    "collapsed": false
   },
   "outputs": [
    {
     "name": "stdout",
     "output_type": "stream",
     "text": [
      "0\n",
      "1\n",
      "2\n",
      "3\n",
      "4\n",
      "5\n",
      "6\n",
      "7\n",
      "8\n",
      "9\n"
     ]
    }
   ],
   "source": [
    "count = 0\n",
    "while True:\n",
    "    print count\n",
    "    count += 1\n",
    "    if count >= 10:\n",
    "        break\n",
    "\n",
    "###############練習10min#############"
   ]
  },
  {
   "cell_type": "code",
   "execution_count": 191,
   "metadata": {
    "collapsed": false
   },
   "outputs": [
    {
     "name": "stdout",
     "output_type": "stream",
     "text": [
      "23\n"
     ]
    }
   ],
   "source": [
    "#練習 今天眼前有一堆物品，不知道幾個，每次取3剩下2;每次取5剩下3;每次取7剩下2\n",
    "# 請問這堆物品的最小解?\n",
    "\n",
    "num = 1\n",
    "while num % 3 != 2 or num % 5 != 3 or num % 7 != 2:\n",
    "    num += 1\n",
    "print num"
   ]
  },
  {
   "cell_type": "code",
   "execution_count": 70,
   "metadata": {
    "collapsed": false
   },
   "outputs": [
    {
     "name": "stdout",
     "output_type": "stream",
     "text": [
      "1\n",
      "5\n",
      "Sorry, you lose!\n"
     ]
    }
   ],
   "source": [
    "#練習 A君各擲1顆骰子三次如果都沒出現點數5就贏，反之如果出現5則輸\n",
    "import random\n",
    "\n",
    "count = 0\n",
    "while count < 3:\n",
    "    num = random.randint(1, 6)\n",
    "    print num\n",
    "    if num == 5:\n",
    "        print \"Sorry, you lose!\"\n",
    "        break\n",
    "    count += 1\n",
    "else:\n",
    "    print \"You win!\""
   ]
  },
  {
   "cell_type": "code",
   "execution_count": 73,
   "metadata": {
    "collapsed": false,
    "scrolled": true
   },
   "outputs": [
    {
     "name": "stdout",
     "output_type": "stream",
     "text": [
      "\n",
      "1 * 1 = 1\n",
      "1 * 2 = 2\n",
      "1 * 3 = 3\n",
      "1 * 4 = 4\n",
      "1 * 5 = 5\n",
      "1 * 6 = 6\n",
      "1 * 7 = 7\n",
      "1 * 8 = 8\n",
      "1 * 9 = 9\n",
      "\n",
      "2 * 1 = 2\n",
      "2 * 2 = 4\n",
      "2 * 3 = 6\n",
      "2 * 4 = 8\n",
      "2 * 5 = 10\n",
      "2 * 6 = 12\n",
      "2 * 7 = 14\n",
      "2 * 8 = 16\n",
      "2 * 9 = 18\n",
      "\n",
      "3 * 1 = 3\n",
      "3 * 2 = 6\n",
      "3 * 3 = 9\n",
      "3 * 4 = 12\n",
      "3 * 5 = 15\n",
      "3 * 6 = 18\n",
      "3 * 7 = 21\n",
      "3 * 8 = 24\n",
      "3 * 9 = 27\n",
      "\n",
      "4 * 1 = 4\n",
      "4 * 2 = 8\n",
      "4 * 3 = 12\n",
      "4 * 4 = 16\n",
      "4 * 5 = 20\n",
      "4 * 6 = 24\n",
      "4 * 7 = 28\n",
      "4 * 8 = 32\n",
      "4 * 9 = 36\n",
      "\n",
      "5 * 1 = 5\n",
      "5 * 2 = 10\n",
      "5 * 3 = 15\n",
      "5 * 4 = 20\n",
      "5 * 5 = 25\n",
      "5 * 6 = 30\n",
      "5 * 7 = 35\n",
      "5 * 8 = 40\n",
      "5 * 9 = 45\n",
      "\n",
      "6 * 1 = 6\n",
      "6 * 2 = 12\n",
      "6 * 3 = 18\n",
      "6 * 4 = 24\n",
      "6 * 5 = 30\n",
      "6 * 6 = 36\n",
      "6 * 7 = 42\n",
      "6 * 8 = 48\n",
      "6 * 9 = 54\n",
      "\n",
      "7 * 1 = 7\n",
      "7 * 2 = 14\n",
      "7 * 3 = 21\n",
      "7 * 4 = 28\n",
      "7 * 5 = 35\n",
      "7 * 6 = 42\n",
      "7 * 7 = 49\n",
      "7 * 8 = 56\n",
      "7 * 9 = 63\n",
      "\n",
      "8 * 1 = 8\n",
      "8 * 2 = 16\n",
      "8 * 3 = 24\n",
      "8 * 4 = 32\n",
      "8 * 5 = 40\n",
      "8 * 6 = 48\n",
      "8 * 7 = 56\n",
      "8 * 8 = 64\n",
      "8 * 9 = 72\n",
      "\n",
      "9 * 1 = 9\n",
      "9 * 2 = 18\n",
      "9 * 3 = 27\n",
      "9 * 4 = 36\n",
      "9 * 5 = 45\n",
      "9 * 6 = 54\n",
      "9 * 7 = 63\n",
      "9 * 8 = 72\n",
      "9 * 9 = 81\n"
     ]
    }
   ],
   "source": [
    "#練習 印出99乘法表\n",
    "for x in xrange(1,10):\n",
    "    print \"\"\n",
    "    for y in xrange(1,10):\n",
    "        print str(x) + \" * \" + str(y) + \" = \" + str(x*y)\n",
    "        #print \"%d * %d = %d\"%(x, y, (x*y))"
   ]
  },
  {
   "cell_type": "code",
   "execution_count": null,
   "metadata": {
    "collapsed": false
   },
   "outputs": [],
   "source": []
  },
  {
   "cell_type": "code",
   "execution_count": 27,
   "metadata": {
    "collapsed": false
   },
   "outputs": [
    {
     "name": "stdout",
     "output_type": "stream",
     "text": [
      "方塊4\n",
      "梅花A\n",
      "梅花9\n",
      "紅心Q\n",
      "黑桃10\n"
     ]
    }
   ],
   "source": [
    "#練習 設計一隻程式 可以從poker裡面隨機拿出五張牌 tips:random.choice\n",
    "import random\n",
    "poker = []\n",
    "suit = {1:\"黑桃\", 2:\"紅心\", 3:\"方塊\", 4:\"梅花\"}\n",
    "card = [\"A\", \"2\", \"3\", \"4\", \"5\", \"6\", \"7\", \"8\", \"9\", \"10\", \"J\", \"Q\", \"K\"]\n",
    "for i in xrange(1,5):\n",
    "    for j in xrange(0,13):\n",
    "        poker.append(suit[i] + card[j])\n",
    "\n",
    "for x in xrange(5):\n",
    "    deck = random.choice(poker)    \n",
    "    print deck    \n",
    "    poker.remove(deck)\n"
   ]
  },
  {
   "cell_type": "code",
   "execution_count": 157,
   "metadata": {
    "collapsed": false
   },
   "outputs": [
    {
     "name": "stdout",
     "output_type": "stream",
     "text": [
      "s\n",
      "p\n",
      "a\n",
      "m\n"
     ]
    }
   ],
   "source": [
    "string = \"spam\"\n",
    "for i in string:\n",
    "    print i\n",
    "    "
   ]
  },
  {
   "cell_type": "code",
   "execution_count": 28,
   "metadata": {
    "collapsed": false
   },
   "outputs": [
    {
     "name": "stdout",
     "output_type": "stream",
     "text": [
      "7\n",
      "9\n",
      "12\n",
      "54\n",
      "99\n"
     ]
    }
   ],
   "source": [
    "#page 50\n",
    "numbers  = [7, 9, 12, 54, 99]\n",
    "\n",
    "for num in numbers:\n",
    "    print num"
   ]
  },
  {
   "cell_type": "code",
   "execution_count": null,
   "metadata": {
    "collapsed": true
   },
   "outputs": [],
   "source": []
  },
  {
   "cell_type": "code",
   "execution_count": 119,
   "metadata": {
    "collapsed": false
   },
   "outputs": [
    {
     "name": "stdout",
     "output_type": "stream",
     "text": [
      "['abc', 7891, 456, 'Sam', 70.5]\n",
      "abc\n",
      "[7891, 456, 'Sam']\n",
      "[456, 'Sam', 70.5]\n",
      "['abc', 7891, 456, 'Sam', 70.5, 'abc', 7891, 456, 'Sam', 70.5]\n",
      "['abc', 456, 70.5]\n",
      "[70.5, 'Sam', 456, 7891, 'abc']\n",
      "5\n"
     ]
    }
   ],
   "source": [
    "a = ['abc', 7891, 456, 'Sam', 70.5]\n",
    "\n",
    "print a\n",
    "print a[0]\n",
    "print a[1:4]\n",
    "print a[2:] #2到最後\n",
    "print a * 2\n",
    "print a[0:5:2] #索引0~5，間距2\n",
    "print a[::-1]\n",
    "\n",
    "print len(a)"
   ]
  },
  {
   "cell_type": "code",
   "execution_count": 125,
   "metadata": {
    "collapsed": false
   },
   "outputs": [
    {
     "name": "stdout",
     "output_type": "stream",
     "text": [
      "a\n",
      "7900\n",
      "['abc', 7891, 456, 'Sam', 70.5, 5, 5]\n"
     ]
    },
    {
     "data": {
      "text/plain": [
       "True"
      ]
     },
     "execution_count": 125,
     "metadata": {},
     "output_type": "execute_result"
    }
   ],
   "source": [
    "print a[0][0]\n",
    "print a[1] + 9\n",
    "\n",
    "a.append(5)\n",
    "print a\n",
    "\n",
    "'Sam' in a"
   ]
  },
  {
   "cell_type": "code",
   "execution_count": 32,
   "metadata": {
    "collapsed": false
   },
   "outputs": [
    {
     "name": "stdout",
     "output_type": "stream",
     "text": [
      "0\n",
      "2\n",
      "4\n",
      "6\n",
      "8\n",
      "10\n",
      "12\n"
     ]
    }
   ],
   "source": [
    "a = [0, 1, 2, 3, 4, 5, 6, 7, 8, 9, 10, 11, 12, 13]\n",
    "\n",
    "for number in a:\n",
    "    if number % 2 == 0:\n",
    "        print number"
   ]
  },
  {
   "cell_type": "code",
   "execution_count": 165,
   "metadata": {
    "collapsed": false
   },
   "outputs": [
    {
     "name": "stdout",
     "output_type": "stream",
     "text": [
      "[0, 1, 4, 9, 16, 25, 36, 49, 64, 81, 100, 121, 144, 169]\n",
      "[0, 1, 4, 9, 16, 25, 36, 49, 64, 81, 100, 121, 144, 169]\n"
     ]
    }
   ],
   "source": [
    "a = [0, 1, 2, 3, 4, 5, 6, 7, 8, 9, 10, 11, 12, 13]\n",
    "a_square = []\n",
    "\n",
    "for x in a:\n",
    "    a_square.append(x*x)    \n",
    "print a_square\n",
    "\n",
    "print [x*x for x in a]"
   ]
  },
  {
   "cell_type": "code",
   "execution_count": 168,
   "metadata": {
    "collapsed": false,
    "scrolled": true
   },
   "outputs": [
    {
     "name": "stdout",
     "output_type": "stream",
     "text": [
      "[1, 3, 5, 7, 9, 11, 13]\n",
      "[1, 3, 5, 7, 9, 11, 13]\n"
     ]
    }
   ],
   "source": [
    "a = [0, 1, 2, 3, 4, 5, 6, 7, 8, 9, 10, 11, 12, 13]\n",
    "a_odd = []\n",
    "for x in a:\n",
    "    if x % 2 != 0:\n",
    "        a_odd.append(x)\n",
    "print a_odd\n",
    "\n",
    "print [x for x in a if x % 2 != 0]"
   ]
  },
  {
   "cell_type": "code",
   "execution_count": 26,
   "metadata": {
    "collapsed": false
   },
   "outputs": [
    {
     "name": "stdout",
     "output_type": "stream",
     "text": [
      "{'age': 28, 'name': 'Sam', 'sex': 'male'}\n",
      "['age', 'name', 'sex']\n",
      "[28, 'Sam', 'male']\n",
      "Sam\n",
      "28\n",
      "None\n"
     ]
    }
   ],
   "source": [
    "#page 59\n",
    "dic = {'name':'Sam', 'age':28, 'sex':'male'}\n",
    "\n",
    "print dic\n",
    "print dic.keys()\n",
    "print dic.values()\n",
    "print dic['name']\n",
    "print dic.get('age')\n",
    "print dic.get('phone')"
   ]
  },
  {
   "cell_type": "code",
   "execution_count": 27,
   "metadata": {
    "collapsed": false
   },
   "outputs": [
    {
     "name": "stdout",
     "output_type": "stream",
     "text": [
      "{'phone': 123456789, 'age': 28, 'name': 'Sam', 'sex': 'male'}\n"
     ]
    }
   ],
   "source": [
    "dic['phone'] = 123456789\n",
    "\n",
    "print dic"
   ]
  },
  {
   "cell_type": "code",
   "execution_count": 16,
   "metadata": {
    "collapsed": false
   },
   "outputs": [
    {
     "name": "stdout",
     "output_type": "stream",
     "text": [
      "phone 123456789\n",
      "age 28\n",
      "name Sam\n",
      "sex male\n"
     ]
    }
   ],
   "source": [
    "for key in dic:\n",
    "    print key , dic[key]"
   ]
  },
  {
   "cell_type": "code",
   "execution_count": 29,
   "metadata": {
    "collapsed": false
   },
   "outputs": [
    {
     "name": "stdout",
     "output_type": "stream",
     "text": [
      "dog_age : 3\n",
      "phone : 123456789\n",
      "name : Sam\n",
      "age : 28\n",
      "dog_name : Alex\n",
      "sex : male\n"
     ]
    }
   ],
   "source": [
    "dog = {'dog_name':'Alex', 'dog_age':3}\n",
    "dic.update(dog)\n",
    "\n",
    "for key in dic:\n",
    "    print key ,\":\", dic[key]"
   ]
  },
  {
   "cell_type": "code",
   "execution_count": 16,
   "metadata": {
    "collapsed": false
   },
   "outputs": [
    {
     "name": "stdout",
     "output_type": "stream",
     "text": [
      "(1, 2, 3) (1, 2, 3)\n"
     ]
    }
   ],
   "source": [
    "#page 63\n",
    "#元組與List相似 最大不同之處是元素不能修改\n",
    "tuple1 = (1,2,3)\n",
    "tuple2 = 1,2,3\n",
    "\n",
    "print tuple1,tuple2"
   ]
  },
  {
   "cell_type": "code",
   "execution_count": 28,
   "metadata": {
    "collapsed": false
   },
   "outputs": [
    {
     "name": "stdout",
     "output_type": "stream",
     "text": [
      "('one', 2, 'three', 4, 4, 4, 4, 4)\n",
      "8\n",
      "one\n",
      "4 \n",
      "\n",
      "1\n",
      "5\n"
     ]
    }
   ],
   "source": [
    "t = ('one',2,'three',4,4,4,4,4)\n",
    "print t\n",
    "print len(t)\n",
    "print t[0]\n",
    "print t[-2],'\\n'\n",
    "\n",
    "print t.index(2)\n",
    "print t.count(4)"
   ]
  },
  {
   "cell_type": "code",
   "execution_count": null,
   "metadata": {
    "collapsed": false
   },
   "outputs": [],
   "source": [
    "##############練習15min#################"
   ]
  },
  {
   "cell_type": "code",
   "execution_count": 13,
   "metadata": {
    "collapsed": false
   },
   "outputs": [
    {
     "name": "stdout",
     "output_type": "stream",
     "text": [
      "���銝剜�4\n"
     ]
    },
    {
     "data": {
      "text/plain": [
       "'4'"
      ]
     },
     "execution_count": 13,
     "metadata": {},
     "output_type": "execute_result"
    }
   ],
   "source": [
    "raw_input(\"這是中文\")"
   ]
  },
  {
   "cell_type": "code",
   "execution_count": 14,
   "metadata": {
    "collapsed": false
   },
   "outputs": [
    {
     "name": "stdout",
     "output_type": "stream",
     "text": [
      "這是中文4\n"
     ]
    },
    {
     "data": {
      "text/plain": [
       "'4'"
      ]
     },
     "execution_count": 14,
     "metadata": {},
     "output_type": "execute_result"
    }
   ],
   "source": [
    "raw_input(u\"這是中文\")"
   ]
  },
  {
   "cell_type": "code",
   "execution_count": 16,
   "metadata": {
    "collapsed": false
   },
   "outputs": [
    {
     "name": "stdout",
     "output_type": "stream",
     "text": [
      "['\\xe4\\xbb\\x8a\\xe5\\xa4\\xa9\\xe5\\xa4\\xa9\\xe6\\xb0\\xa3', '\\xe6\\xb8\\xac\\xe8\\xa9\\xa6']\n",
      "今天天氣\n",
      "測試\n"
     ]
    }
   ],
   "source": [
    "a = [\"今天天氣\",\"測試\"]\n",
    "print a\n",
    "\n",
    "for x in a:\n",
    "    print x"
   ]
  },
  {
   "cell_type": "code",
   "execution_count": 17,
   "metadata": {
    "collapsed": false
   },
   "outputs": [
    {
     "name": "stdout",
     "output_type": "stream",
     "text": [
      "[\"今天天氣\", \"測試\"]\n"
     ]
    }
   ],
   "source": [
    "import json\n",
    "\n",
    "print json.dumps(a, encoding=\"UTF-8\", ensure_ascii=False)"
   ]
  },
  {
   "cell_type": "code",
   "execution_count": 26,
   "metadata": {
    "collapsed": false
   },
   "outputs": [
    {
     "name": "stdout",
     "output_type": "stream",
     "text": [
      "{'\\xe4\\xbb\\x8a\\xe5\\xa4\\xa9\\xe5\\x8d\\x81\\xe6\\x9c\\x88': '\\xe4\\xb8\\x83\\xe8\\x99\\x9f'}\n",
      "{\"今天十月\": \"七號\"}\n"
     ]
    }
   ],
   "source": [
    "a = {\"今天十月\":\"七號\"}\n",
    "print a\n",
    "\n",
    "print json.dumps(a, encoding=\"UTF-8\", ensure_ascii=False)\n",
    "\n",
    "\n"
   ]
  },
  {
   "cell_type": "code",
   "execution_count": 207,
   "metadata": {
    "collapsed": false
   },
   "outputs": [
    {
     "name": "stdout",
     "output_type": "stream",
     "text": [
      "2016-09-20 16:48:50.201000\n",
      "2016\n",
      "9\n",
      "20\n"
     ]
    }
   ],
   "source": [
    "from datetime import datetime\n",
    "\n",
    "now = datetime.now()\n",
    "print now\n",
    "print now.year\n",
    "print now.month\n",
    "print now.day"
   ]
  },
  {
   "cell_type": "code",
   "execution_count": 33,
   "metadata": {
    "collapsed": false
   },
   "outputs": [
    {
     "name": "stdout",
     "output_type": "stream",
     "text": [
      "17:31:48\n"
     ]
    }
   ],
   "source": [
    "now = datetime.now()\n",
    "print '%s:%s:%s' % (now.hour,now.minute,now.second)"
   ]
  },
  {
   "cell_type": "code",
   "execution_count": 91,
   "metadata": {
    "collapsed": false
   },
   "outputs": [
    {
     "name": "stdout",
     "output_type": "stream",
     "text": [
      "time.struct_time(tm_year=2016, tm_mon=9, tm_mday=21, tm_hour=10, tm_min=7, tm_sec=43, tm_wday=2, tm_yday=265, tm_isdst=0)\n",
      "2016-09-21\n"
     ]
    }
   ],
   "source": [
    "import time\n",
    "\n",
    "localtime = time.localtime(time.time()) \n",
    "print localtime\n",
    "\n",
    "localtime = time.strftime('%Y-%m-%d')\n",
    "print localtime"
   ]
  },
  {
   "cell_type": "code",
   "execution_count": 35,
   "metadata": {
    "collapsed": true
   },
   "outputs": [],
   "source": [
    "#將日期格式化\n",
    "time.strftime?\n",
    "###############結束第一天################"
   ]
  },
  {
   "cell_type": "code",
   "execution_count": 12,
   "metadata": {
    "collapsed": false
   },
   "outputs": [
    {
     "name": "stdout",
     "output_type": "stream",
     "text": [
      "請輸入日期(格式yyyy.mm.dd) : 2010.5.30\n",
      "與今天相差 2305 天\n"
     ]
    }
   ],
   "source": [
    "#練習 讓使用者輸入yyyy.mm.dd，利用程式計算今天與輸入的那天差了幾天?\n",
    "\n",
    "import time \n",
    "from datetime import datetime\n",
    "import datetime\n",
    "\n",
    "\n",
    "date = raw_input(u\"請輸入日期(格式yyyy.mm.dd) : \").split(\".\")\n",
    "today = datetime.date.today()\n",
    "result = today - datetime.date(int(date[0]), int(date[1]), int(date[2]))\n",
    "\n",
    "if result.days < 0:\n",
    "    days = result.days * -1\n",
    "else:\n",
    "     days = result.days\n",
    "print \"與今天相差\", days, \"天\""
   ]
  },
  {
   "cell_type": "code",
   "execution_count": null,
   "metadata": {
    "collapsed": false
   },
   "outputs": [],
   "source": []
  },
  {
   "cell_type": "code",
   "execution_count": 34,
   "metadata": {
    "collapsed": false
   },
   "outputs": [
    {
     "name": "stdout",
     "output_type": "stream",
     "text": [
      "score is 33 ,GG!\n"
     ]
    }
   ],
   "source": [
    "#練習 隨機給一個分數0~100分,若不到60分則當掉,61~89分pass,90分以上A+\n",
    "import random\n",
    "\n",
    "score = random.randint(0,100)\n",
    "\n",
    "if score > 60 and score < 90:\n",
    "    print \"score is %d ,Pass!\"%(score)\n",
    "elif score >= 90:\n",
    "    print \"score is %d ,perfect!\"%(score)\n",
    "else:\n",
    "    print \"score is %d ,GG!\"%(score)\n",
    "    \n",
    "    \n"
   ]
  },
  {
   "cell_type": "code",
   "execution_count": 29,
   "metadata": {
    "collapsed": false
   },
   "outputs": [
    {
     "name": "stdout",
     "output_type": "stream",
     "text": [
      "hello\n"
     ]
    }
   ],
   "source": [
    "def say_hello():\n",
    "    print \"hello\"\n",
    "    \n",
    "say_hello()"
   ]
  },
  {
   "cell_type": "code",
   "execution_count": 49,
   "metadata": {
    "collapsed": false
   },
   "outputs": [
    {
     "name": "stdout",
     "output_type": "stream",
     "text": [
      "With tax: 108.000000\n",
      "With tip: 124.200000\n"
     ]
    }
   ],
   "source": [
    "def tax(bill):    \n",
    "    bill *= 1.08\n",
    "    print \"With tax: %f\" % bill\n",
    "    return bill\n",
    "\n",
    "def tip(bill):    \n",
    "    bill *= 1.15\n",
    "    print \"With tip: %f\" % bill\n",
    "    return bill\n",
    "    \n",
    "meal_cost = 100\n",
    "meal_with_tax = tax(meal_cost)\n",
    "meal_with_tip = tip(meal_with_tax)"
   ]
  },
  {
   "cell_type": "code",
   "execution_count": 50,
   "metadata": {
    "collapsed": false
   },
   "outputs": [
    {
     "name": "stdout",
     "output_type": "stream",
     "text": [
      "2 to the power of 6 is 64.\n"
     ]
    }
   ],
   "source": [
    "def power(base, exponent):  \n",
    "    result = base**exponent\n",
    "    print \"%d to the power of %d is %d.\" % (base, exponent, result)\n",
    "\n",
    "power(2,6) "
   ]
  },
  {
   "cell_type": "code",
   "execution_count": 112,
   "metadata": {
    "collapsed": false
   },
   "outputs": [
    {
     "data": {
      "text/plain": [
       "19"
      ]
     },
     "execution_count": 112,
     "metadata": {},
     "output_type": "execute_result"
    }
   ],
   "source": [
    "def double(n):\n",
    "    return 2 * n\n",
    "def triple(p):\n",
    "    return 3 * p\n",
    "\n",
    "def add(a, b):\n",
    "    return double(a) + triple(b)\n",
    "\n",
    "add(5,3)"
   ]
  },
  {
   "cell_type": "code",
   "execution_count": 172,
   "metadata": {
    "collapsed": false
   },
   "outputs": [
    {
     "name": "stdout",
     "output_type": "stream",
     "text": [
      "35\n"
     ]
    }
   ],
   "source": [
    "def addall(*args): \n",
    "    total = 0\n",
    "    for x in args:\n",
    "        total += x\n",
    "    print total\n",
    "    \n",
    "\n",
    "addall(5,7,13,10)\n",
    "\n",
    "############練習15min##################"
   ]
  },
  {
   "cell_type": "code",
   "execution_count": 23,
   "metadata": {
    "collapsed": false
   },
   "outputs": [
    {
     "name": "stdout",
     "output_type": "stream",
     "text": [
      "858\n"
     ]
    }
   ],
   "source": [
    "#練習 寫一個函式將grades = [100,95,33,456,23,57,94]給加起來\n",
    "#方法名稱請用 grades_sum()\n",
    "\n",
    "grades = [100,95,33,456,23,57,94]\n",
    "\n",
    "def grades_sum(grades):\n",
    "    totle = 0\n",
    "    for g in grades:\n",
    "         totle += g\n",
    "    print totle\n",
    "\n",
    "grades_sum(grades)"
   ]
  },
  {
   "cell_type": "code",
   "execution_count": 58,
   "metadata": {
    "collapsed": false
   },
   "outputs": [
    {
     "name": "stdout",
     "output_type": "stream",
     "text": [
      "Python\n",
      "Python\n",
      "Python\n"
     ]
    }
   ],
   "source": [
    "#練習 撰寫一個函式copy,能傳入一字串string和一整數n，然後輸出n次str\n",
    "def copy(string, n):\n",
    "    for i in xrange(n):\n",
    "        print string\n",
    "copy(\"Python\",3)"
   ]
  },
  {
   "cell_type": "code",
   "execution_count": 59,
   "metadata": {
    "collapsed": false
   },
   "outputs": [
    {
     "data": {
      "text/plain": [
       "931668"
      ]
     },
     "execution_count": 59,
     "metadata": {},
     "output_type": "execute_result"
    }
   ],
   "source": [
    "#練習 建構一個方法 小於2000的正整數中，找出3或5的倍數，相加求總和\n",
    "def m35(n):\n",
    "    res = 0\n",
    "    for i in xrange(1,n):\n",
    "        if i % 3 == 0 or i % 5 == 0:\n",
    "            res += i    \n",
    "    return res\n",
    "    \n",
    "m35(2000)"
   ]
  },
  {
   "cell_type": "code",
   "execution_count": 76,
   "metadata": {
    "collapsed": false
   },
   "outputs": [
    {
     "name": "stdout",
     "output_type": "stream",
     "text": [
      "5\n",
      "50\n"
     ]
    }
   ],
   "source": [
    "a = 5\n",
    "\n",
    "def printer():\n",
    "    a = 50\n",
    "    return a\n",
    "\n",
    "print a\n",
    "print printer()"
   ]
  },
  {
   "cell_type": "code",
   "execution_count": 80,
   "metadata": {
    "collapsed": false
   },
   "outputs": [
    {
     "name": "stdout",
     "output_type": "stream",
     "text": [
      "x is 50\n",
      "Changed local x to 2\n",
      "x is still 50\n"
     ]
    }
   ],
   "source": [
    "x = 50\n",
    "\n",
    "def func(x):   \n",
    "    print 'x is', x \n",
    "    x = 2 \n",
    "    print 'Changed local x to', x\n",
    "    \n",
    "func(x) \n",
    "print 'x is still', x\n"
   ]
  },
  {
   "cell_type": "code",
   "execution_count": 83,
   "metadata": {
    "collapsed": false
   },
   "outputs": [
    {
     "name": "stdout",
     "output_type": "stream",
     "text": [
      "x is 50\n",
      "Changed local x to 2\n",
      "x is 2\n"
     ]
    }
   ],
   "source": [
    "x = 50\n",
    "\n",
    "def func(): \n",
    "    global x \n",
    "    print 'x is', x \n",
    "    x = 2 \n",
    "    print 'Changed local x to', x\n",
    "    \n",
    "func() \n",
    "print 'x is', x"
   ]
  },
  {
   "cell_type": "code",
   "execution_count": 97,
   "metadata": {
    "collapsed": true
   },
   "outputs": [],
   "source": [
    "f = open(\"test.txt\",\"w\")\n",
    "f.write(\"Hello \\nWorld!\")\n",
    "f.close()"
   ]
  },
  {
   "cell_type": "code",
   "execution_count": null,
   "metadata": {
    "collapsed": true
   },
   "outputs": [],
   "source": [
    "m1 = 'hello world\\n'\n",
    "l1 = ['good','time']\n",
    "f = open('test1.txt','w')\n",
    "f.write(m1)\n",
    "f.writelines(l1)\n",
    "f.close()"
   ]
  },
  {
   "cell_type": "code",
   "execution_count": 111,
   "metadata": {
    "collapsed": false
   },
   "outputs": [
    {
     "name": "stdout",
     "output_type": "stream",
     "text": [
      "Hello \n",
      "World!\n"
     ]
    }
   ],
   "source": [
    "f = open(\"test.txt\",\"r\")\n",
    "s = f.read()\n",
    "f.close()\n",
    "print s"
   ]
  },
  {
   "cell_type": "code",
   "execution_count": 139,
   "metadata": {
    "collapsed": false
   },
   "outputs": [
    {
     "ename": "IOError",
     "evalue": "[Errno 13] Permission denied: 'testfile.txt'",
     "output_type": "error",
     "traceback": [
      "\u001b[1;31m---------------------------------------------------------------------------\u001b[0m",
      "\u001b[1;31mIOError\u001b[0m                                   Traceback (most recent call last)",
      "\u001b[1;32m<ipython-input-139-f294a02a017f>\u001b[0m in \u001b[0;36m<module>\u001b[1;34m()\u001b[0m\n\u001b[1;32m----> 1\u001b[1;33m \u001b[0mf\u001b[0m \u001b[1;33m=\u001b[0m \u001b[0mopen\u001b[0m\u001b[1;33m(\u001b[0m\u001b[1;34m\"testfile.txt\"\u001b[0m\u001b[1;33m,\u001b[0m \u001b[1;34m\"w\"\u001b[0m\u001b[1;33m)\u001b[0m\u001b[1;33m\u001b[0m\u001b[0m\n\u001b[0m\u001b[0;32m      2\u001b[0m \u001b[0mf\u001b[0m\u001b[1;33m.\u001b[0m\u001b[0mwrite\u001b[0m\u001b[1;33m(\u001b[0m\u001b[1;34m\"測試用文件!\"\u001b[0m\u001b[1;33m)\u001b[0m\u001b[1;33m\u001b[0m\u001b[0m\n\u001b[0;32m      3\u001b[0m \u001b[0mf\u001b[0m\u001b[1;33m.\u001b[0m\u001b[0mclose\u001b[0m\u001b[1;33m(\u001b[0m\u001b[1;33m)\u001b[0m\u001b[1;33m\u001b[0m\u001b[0m\n",
      "\u001b[1;31mIOError\u001b[0m: [Errno 13] Permission denied: 'testfile.txt'"
     ]
    }
   ],
   "source": [
    "f = open(\"testfile.txt\", \"w\")\n",
    "f.write(\"測試用文件!\")\n",
    "f.close()"
   ]
  },
  {
   "cell_type": "code",
   "execution_count": 104,
   "metadata": {
    "collapsed": false
   },
   "outputs": [
    {
     "name": "stdout",
     "output_type": "stream",
     "text": [
      "Error: 沒有找到文件或讀取失敗\n"
     ]
    }
   ],
   "source": [
    "#建立一個testfile檔案，改變唯讀狀態示範此code\n",
    "#畫圖解釋流程\n",
    "try:\n",
    "    f = open(\"testfile.txt\", \"w\")\n",
    "    f.write(\"測試用文件!\")\n",
    "except IOError:\n",
    "    print \"Error: 沒有找到文件或讀取失敗\"\n",
    "else:\n",
    "    print \"寫入成功\"\n",
    "    f.close()"
   ]
  },
  {
   "cell_type": "code",
   "execution_count": 107,
   "metadata": {
    "collapsed": false
   },
   "outputs": [
    {
     "name": "stdout",
     "output_type": "stream",
     "text": [
      "Line : A\n",
      "Line : BB\n",
      "Line : CCC\n",
      "Line : DDDD\n"
     ]
    }
   ],
   "source": [
    "#一次讀取一行\n",
    "f = open('C:\\\\Users\\\\iisr\\\\Downloads\\\\Python_Ppt\\\\test.txt','r')\n",
    "for line in f:\n",
    "    print \"Line : \" + line.strip()    \n",
    "f.close()"
   ]
  },
  {
   "cell_type": "code",
   "execution_count": 106,
   "metadata": {
    "collapsed": false
   },
   "outputs": [
    {
     "name": "stdout",
     "output_type": "stream",
     "text": [
      "A\n",
      "BB\n",
      "CCC\n",
      "DDDD\n"
     ]
    }
   ],
   "source": [
    "#一次讀取全部\n",
    "with open('C:\\\\Users\\\\iisr\\\\Downloads\\\\Python_Ppt\\\\test.txt','r') as f:\n",
    "    s = f.read()\n",
    "print s\n",
    "\n",
    "##################練習15min#####################3"
   ]
  },
  {
   "cell_type": "code",
   "execution_count": 116,
   "metadata": {
    "collapsed": false
   },
   "outputs": [
    {
     "name": "stdout",
     "output_type": "stream",
     "text": [
      "c:\\todo\\name\n"
     ]
    }
   ],
   "source": [
    "print 'c:\\\\todo\\\\name'"
   ]
  },
  {
   "cell_type": "code",
   "execution_count": 33,
   "metadata": {
    "collapsed": false
   },
   "outputs": [],
   "source": [
    "#練習 參考demo資料夾 利用for迴圈與format建置出100個檔案\n",
    "#檔名1...100，這是檔案1...這是檔案100\n",
    "for i in xrange(1,101):\n",
    "    path = 'C:\\\\Users\\\\iisr\\\\Downloads\\\\Python_Ppt\\\\demo\\\\{}.txt'.format(i)\n",
    "    f = open(path,'w')\n",
    "    string = \"這是檔案{}\".format(i)\n",
    "    f.write(string)\n",
    "    f.close()\n"
   ]
  },
  {
   "cell_type": "code",
   "execution_count": 2,
   "metadata": {
    "collapsed": false,
    "scrolled": true
   },
   "outputs": [
    {
     "name": "stdout",
     "output_type": "stream",
     "text": [
      "請輸入收件人：Alex\n",
      "請輸入寄件人：Sam\n"
     ]
    }
   ],
   "source": [
    "#練習 讓使用者輸入\"收件人\"與\"寄件人\"，然後輸出一個letter.txt檔內文為\n",
    "'''\n",
    "Dear 收件人\n",
    "    最近好嗎?...(自由發揮)\n",
    "        寄件人 日期\n",
    "'''\n",
    "\n",
    "import time\n",
    "f = open(\"letter.txt\", \"w\")\n",
    "recipient = raw_input(u\"請輸入收件人：\")\n",
    "sender = raw_input(u\"請輸入寄件人：\")\n",
    "time = time.strftime(\"%Y-%m-%d\")\n",
    "f.write(\"Dear \" + str(recipient) + \"\\n\\n\")\n",
    "f.write(\"\\t好久不见\\n\\n\")\n",
    "f.write(\"\\t\\t\" + sender + \"\\t\" + time)\n",
    "f.close()\n"
   ]
  },
  {
   "cell_type": "code",
   "execution_count": 40,
   "metadata": {
    "collapsed": false,
    "scrolled": true
   },
   "outputs": [
    {
     "name": "stdout",
     "output_type": "stream",
     "text": [
      "C:\\Users\\iisr\\Desktop\\JPG\\01f163fed247c6d2e612ce1584c5d45f91f297997e82e5606c0de8e3a6ec2f80\n",
      "C:\\Users\\iisr\\Desktop\\JPG\\239951619168506735da8de6a50054aa01a9451efb42640a6e2fdeec229c53de\n",
      "C:\\Users\\iisr\\Desktop\\JPG\\389abcdbb34cd0352e7e9c216859a1373a9a0beeb245b6f866c4459604e5fc83\n",
      "C:\\Users\\iisr\\Desktop\\JPG\\3aa18023b8af8318edb3eeb0f30d6e94308703fbf125d73fc86bf54dd0cbe495\n",
      "C:\\Users\\iisr\\Desktop\\JPG\\40a24e1a3675db3d5464e628ee7972ed03a90a99761bb9ed0df8fa74b058718b\n",
      "C:\\Users\\iisr\\Desktop\\JPG\\43399e8cfdc9ac47fc0bf385b3669ecf51181c3785d40e4dbcdd127b6c51a798\n",
      "C:\\Users\\iisr\\Desktop\\JPG\\44fe2b0dca73fadd35d818cb83356e1431f3b0f9729ee9742f5f227e0948de72\n",
      "C:\\Users\\iisr\\Desktop\\JPG\\4952097e64ca550e360288c00b94d7e1d26541371c1250f216ea58e855be73ab\n",
      "C:\\Users\\iisr\\Desktop\\JPG\\5a0982c27b6315f1c5d4e57c27cbfaccbac5f0025e228a39a0766f3a86f40d53\n",
      "C:\\Users\\iisr\\Desktop\\JPG\\62e699d6604b45db6c469bdd4d0923dd99f9ecd7dbd568d372d956a9a5e212aa\n",
      "C:\\Users\\iisr\\Desktop\\JPG\\64eac8cf121783a5dab20c1a5e141148c2f422b03a4e3fd7d2d182c5730b73ed\n",
      "C:\\Users\\iisr\\Desktop\\JPG\\6fb41239c1eb8f5a05ed496cc2945b6b05e90f22c3f74ec6e0b8b30154d5e199\n",
      "C:\\Users\\iisr\\Desktop\\JPG\\745a5dff1135f680595448379aeecc4a26ff04c1fb5f59ab30203c42263ba6e4\n",
      "C:\\Users\\iisr\\Desktop\\JPG\\7bab3aa35c179121c941882c6ab98124e8c2abe4c633928b9a0ac634eb5eb1f7\n",
      "C:\\Users\\iisr\\Desktop\\JPG\\93e76841fe100e33374e805e85dc8b8b3157c9b9448950c6066d8bd7f2349c15\n",
      "C:\\Users\\iisr\\Desktop\\JPG\\95308156a2187a0eda0a2091227e71c00f167acb327489ddad9e74146de658b6\n",
      "C:\\Users\\iisr\\Desktop\\JPG\\aa6b9e5f757fb7762362f05e27dfe504f226c3ae3c6c41ed4947bb59b1c648df\n",
      "C:\\Users\\iisr\\Desktop\\JPG\\aed2d83940478dd6074603c552383880c09e28e457bf68a31f7ec755e903e76d\n",
      "C:\\Users\\iisr\\Desktop\\JPG\\b71dabef83821ac1436c6e54eed36510be63ff7e106437b4f3d5fa2b5880d0ea\n",
      "C:\\Users\\iisr\\Desktop\\JPG\\ca8b2261db9a7e7d7632c061a4dc9d9a28a4723e47125ce97f8070f272aff474\n",
      "C:\\Users\\iisr\\Desktop\\JPG\\cebf133585da7171afc32d2c6a89086810d8e285e8d225ba67f94f9d097ae58d\n",
      "C:\\Users\\iisr\\Desktop\\JPG\\d027c5cef9dc76de02d35ff5ba3b53e776c0c260af04c923ad7204ea18aeb0b8\n",
      "C:\\Users\\iisr\\Desktop\\JPG\\d783b7553fae610eb21effa9a327f75e56f413a96c1ee28f9d62a673f03eb01b\n",
      "C:\\Users\\iisr\\Desktop\\JPG\\dd2561c3a8b59f68c1735b10a4da4fca42d5142732cc40d892584f1b364ab9b9\n",
      "C:\\Users\\iisr\\Desktop\\JPG\\df11ab97682cad7ce1747b2b9f22c34e547c8719ea4f66d2ed8197ae1030224f\n",
      "C:\\Users\\iisr\\Desktop\\JPG\\e0a75685e37cee65776f0b64984c97187161f980029a873dbfcb1af429637910\n",
      "C:\\Users\\iisr\\Desktop\\JPG\\e11b85567e6adad38c4aae9c1797e05e6444a21c6803533a17ec5068ac48834c\n",
      "C:\\Users\\iisr\\Desktop\\JPG\\f0bfb928901f4fb71fee919108b703ff552a1cc6086a92265b190926cb358c51\n",
      "C:\\Users\\iisr\\Desktop\\JPG\\f2768744fc97c4897bb35f591c8a0a979975a8b2429d808d7d6cfb20d106c639\n",
      "C:\\Users\\iisr\\Desktop\\JPG\\fe1ccba17b5be7b6cc4a325d62d2ba938c34d0035e583111b12fb8613c3b9bf3\n"
     ]
    }
   ],
   "source": [
    "#練習 將JPG資料夾內所有檔名後面加上.jpg  tips:import os\n",
    "import os\n",
    "\n",
    "path = 'C:\\\\Users\\\\iisr\\\\Desktop\\\\JPG'\n",
    "\n",
    "\n",
    "for fname in os.listdir(path):    \n",
    "    new_fname = '{}.jpg'.format(fname)   \n",
    "    #new_fname = fname.replace('.jpg','') \n",
    "    #print new_fname\n",
    "    print os.path.join(path, fname)\n",
    "    os.rename(os.path.join(path, fname), os.path.join(path, new_fname))\n",
    "    \n",
    "    \n"
   ]
  },
  {
   "cell_type": "code",
   "execution_count": 122,
   "metadata": {
    "collapsed": false
   },
   "outputs": [
    {
     "name": "stdout",
     "output_type": "stream",
     "text": [
      "Hi, I'm Sam, nice to meet you!\n",
      "Sam's phone:0975 \n",
      "addres:桃園 \n",
      "sex:male\n",
      "-----------------\n",
      "Hi, I'm Jinx, nice to meet you!\n",
      "Jinx's phone:0919 \n",
      "addres:台北 \n",
      "sex:female\n"
     ]
    }
   ],
   "source": [
    "#class 類別 首個參數「必定」接受物件本身，慣例上使用 self 名稱 相當於其他語言的this\n",
    "#重複使用，易用特點\n",
    "\n",
    "class human:\n",
    "    def __init__(self, name, sex, phone, address):\n",
    "        self.name = name\n",
    "        self.sex = sex\n",
    "        self.phone = phone\n",
    "        self.address = address\n",
    "    \n",
    "    def say_hi(self):\n",
    "        print \"Hi, I'm {}, nice to meet you!\".format(self.name)\n",
    "        \n",
    "    def data(self):\n",
    "        print \"{}'s phone:{} \\naddres:{} \\nsex:{}\".format(self.name,self.phone,self.address,self.sex)\n",
    "\n",
    "Sam = human(\"Sam\",\"male\",\"0975\",\"桃園\")\n",
    "Jinx = human(\"Jinx\",\"female\",\"0919\",\"台北\")\n",
    "Sam.say_hi()\n",
    "Sam.data()\n",
    "print '-----------------'\n",
    "Jinx.say_hi()\n",
    "Jinx.data()"
   ]
  },
  {
   "cell_type": "code",
   "execution_count": 75,
   "metadata": {
    "collapsed": false
   },
   "outputs": [
    {
     "name": "stdout",
     "output_type": "stream",
     "text": [
      "True\n",
      "unmarried\n",
      "False\n"
     ]
    }
   ],
   "source": [
    "Sam.marry = \"unmarried\"\n",
    "Jinx.marry = \"married\"\n",
    "\n",
    "print hasattr(Jinx, 'marry') #檢查屬性是否存在\n",
    "print getattr(Sam, 'marry')  #返回屬性的值\n",
    "\n",
    "del Jinx.marry\n",
    "print hasattr(Jinx, 'marry')\n",
    "\n",
    "###########練習15min############"
   ]
  },
  {
   "cell_type": "code",
   "execution_count": null,
   "metadata": {
    "collapsed": false
   },
   "outputs": [],
   "source": [
    "#練習 建構一個moster的類別 有攻擊跟說話的方法 可輸入HP ATK 及名稱\n",
    "#建構一個human的類別 同上 可輸入同上\n",
    "#試著讓moster與human說一段話\n",
    "\n",
    "#讓moster atk human        tips:另外寫一個injured的函式"
   ]
  },
  {
   "cell_type": "code",
   "execution_count": 17,
   "metadata": {
    "collapsed": false
   },
   "outputs": [
    {
     "name": "stdout",
     "output_type": "stream",
     "text": [
      "one, two, three, four\n",
      "I'm green Monster\n",
      "--------------\n",
      "Zac attack Temmo\n",
      "Temmo's hp : 80\n",
      "Ouch!\n",
      "--------------\n",
      "Temmo attack Zac\n",
      "Zac's hp : 250\n",
      "Ouch!\n"
     ]
    }
   ],
   "source": [
    "class monster:\n",
    "    def __init__(self, name, hp, atk):\n",
    "        self.name = name\n",
    "        self.hp = hp\n",
    "        self.atk = atk\n",
    "    \n",
    "    def say(self, message):\n",
    "        self.message = message\n",
    "        print self.message\n",
    "    \n",
    "    def atk_sbody(self, human): \n",
    "        print self.name + \" attack \" + human.name\n",
    "        human.injured(self.atk)     \n",
    "        \n",
    "    def injured(self, injuredPoint):\n",
    "        self.injuredPoint = injuredPoint\n",
    "        self.hp -= self.injuredPoint\n",
    "        print \"{}'s hp : {}\".format(self.name, self.hp)\n",
    "        \n",
    "        \n",
    "class human:\n",
    "    def __init__(self, name, hp, atk):\n",
    "        self.name = name\n",
    "        self.hp = hp\n",
    "        self.atk = atk\n",
    "        \n",
    "    def say(self, message):\n",
    "        self.message = message\n",
    "        print self.message   \n",
    "        \n",
    "    def atk_sbody(self, moster): \n",
    "        print self.name + \" attack \" + moster.name\n",
    "        moster.injured(self.atk)        \n",
    "        \n",
    "    def injured(self, injuredPoint):\n",
    "        self.injuredPoint = injuredPoint\n",
    "        self.hp -= self.injuredPoint\n",
    "        print \"{}'s hp : {}\".format(self.name, self.hp)\n",
    "        \n",
    "Temmo = human(\"Temmo\", 100, 50)\n",
    "Temmo.say(\"one, two, three, four\")\n",
    "Zac = monster(\"Zac\", 300, 20)\n",
    "Zac.say(\"I'm green Monster\")\n",
    "print '--------------'\n",
    "Zac.atk_sbody(Temmo)\n",
    "Temmo.say(\"Ouch!\")\n",
    "print '--------------'\n",
    "Temmo.atk_sbody(Zac)\n",
    "Zac.say(\"Ouch!\")"
   ]
  },
  {
   "cell_type": "code",
   "execution_count": null,
   "metadata": {
    "collapsed": false
   },
   "outputs": [],
   "source": []
  },
  {
   "cell_type": "code",
   "execution_count": null,
   "metadata": {
    "collapsed": true
   },
   "outputs": [],
   "source": []
  },
  {
   "cell_type": "code",
   "execution_count": 44,
   "metadata": {
    "collapsed": false,
    "scrolled": false
   },
   "outputs": [
    {
     "name": "stdout",
     "output_type": "stream",
     "text": [
      "梅花:3\n",
      "大王\n",
      "红桃:5\n",
      "红桃:6\n",
      "方块:J\n"
     ]
    }
   ],
   "source": [
    "import random\n",
    "\n",
    "number = [\"A\", \"2\", \"3\", \"4\", \"5\", \"6\", \"7\", \"8\", \"9\", \"10\", \"J\", \"Q\", \"K\"]\n",
    "color = [\"黑桃\", \"梅花\", \"红桃\", \"方块\"]\n",
    "final = [0, 0, 0, 0, 0]\n",
    "\n",
    "i = 0\n",
    "\n",
    "while i <= 4:\n",
    "    \"\"\"\n",
    "    先判断这个随机数是不是在之前已经取过了（把这个随机数和计数数列内的数字比对），如果取过了的话直接continue跳过本次循环\n",
    "    \"\"\"\n",
    "    isIn = False\n",
    "    randomCount = random.randint(1, 54)\n",
    "    for j in xrange(0, i+1):\n",
    "        if final[j] == randomCount:\n",
    "            isIn = True\n",
    "            break\n",
    "    if isIn is True:\n",
    "        continue\n",
    "    \"\"\"\n",
    "    判断好该随机数在之前没有取过的时候，把这个随机数先放入专门计数的数列\n",
    "    \"\"\"\n",
    "    final[i] = randomCount\n",
    "    i += 1\n",
    "    \"\"\"\n",
    "    再根据该随机数对应的花色以及number打印出来\n",
    "    \"\"\"\n",
    "    if randomCount == 53:\n",
    "        print '小王'\n",
    "    elif randomCount == 54:\n",
    "        print '大王'\n",
    "    elif randomCount < 53:\n",
    "        pokerColor = randomCount/13\n",
    "        pokerNumber = randomCount%13\n",
    "        print color[pokerColor-1]+':'+number[pokerNumber]"
   ]
  },
  {
   "cell_type": "code",
   "execution_count": null,
   "metadata": {
    "collapsed": false
   },
   "outputs": [],
   "source": []
  },
  {
   "cell_type": "code",
   "execution_count": null,
   "metadata": {
    "collapsed": false
   },
   "outputs": [],
   "source": []
  },
  {
   "cell_type": "code",
   "execution_count": null,
   "metadata": {
    "collapsed": false
   },
   "outputs": [],
   "source": []
  },
  {
   "cell_type": "code",
   "execution_count": null,
   "metadata": {
    "collapsed": false
   },
   "outputs": [],
   "source": []
  },
  {
   "cell_type": "code",
   "execution_count": null,
   "metadata": {
    "collapsed": false
   },
   "outputs": [],
   "source": []
  },
  {
   "cell_type": "code",
   "execution_count": null,
   "metadata": {
    "collapsed": true
   },
   "outputs": [],
   "source": []
  }
 ],
 "metadata": {
  "kernelspec": {
   "display_name": "Python 2",
   "language": "python",
   "name": "python2"
  },
  "language_info": {
   "codemirror_mode": {
    "name": "ipython",
    "version": 2
   },
   "file_extension": ".py",
   "mimetype": "text/x-python",
   "name": "python",
   "nbconvert_exporter": "python",
   "pygments_lexer": "ipython2",
   "version": "2.7.11"
  }
 },
 "nbformat": 4,
 "nbformat_minor": 0
}
