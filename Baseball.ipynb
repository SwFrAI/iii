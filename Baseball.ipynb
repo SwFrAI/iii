{
 "cells": [
  {
   "cell_type": "code",
   "execution_count": 4,
   "metadata": {
    "collapsed": false
   },
   "outputs": [],
   "source": [
    "import requests\n",
    "from bs4 import BeautifulSoup as bs\n",
    "from pyExcelerator import *\n",
    "\n",
    "url = 'http://tslc.stats.com/mlb/scoreboard.asp?day=20160310'\n",
    "res = requests.get(url)\n",
    "soup = bs(res.text)\n",
    "\n",
    "i = 0\n",
    "w = Workbook()     #創建一個工作簿\n",
    "ws = w.add_sheet('Hey, Sw')     #創建一個工作表\n",
    "#bb = soup.select('.shsRow0Row')\n",
    "for bb in soup.select('.shsRow0Row'):\n",
    "    gn = bb.select('.shsNamD')[0].text\n",
    "    g0 = int(bb.select('.shsTotD')[0].text)\n",
    "    g1 = int(bb.select('.shsTotD')[1].text)\n",
    "    g2 = int(bb.select('.shsTotD')[2].text)\n",
    "    g3 = int(bb.select('.shsTotD')[3].text)\n",
    "    g4 = int(bb.select('.shsTotD')[4].text)\n",
    "    g5 = int(bb.select('.shsTotD')[5].text)\n",
    "    g6 = int(bb.select('.shsTotD')[6].text)\n",
    "    g7 = int(bb.select('.shsTotD')[7].text)\n",
    "    g8 = bb.select('.shsTotD')[8].text\n",
    "    g9 = int(bb.select('.shsTotD')[9].text)    \n",
    "    #for i in xrange(0,33): \n",
    "    ws.write(i,0,gn)\n",
    "    ws.write(i,1,g0)   \n",
    "    ws.write(i,2,g1)\n",
    "    ws.write(i,3,g2)\n",
    "    ws.write(i,4,g3)\n",
    "    ws.write(i,5,g4)\n",
    "    ws.write(i,6,g5)\n",
    "    ws.write(i,7,g6)\n",
    "    ws.write(i,8,g7)\n",
    "    ws.write(i,9,g8)\n",
    "    ws.write(i,10,g9)\n",
    "    i = i+1\n",
    "    #print gn\n",
    "    #print bb.select('.shsNamD')[0].text\n",
    "w.save('20160310.xls')     \n"
   ]
  },
  {
   "cell_type": "code",
   "execution_count": null,
   "metadata": {
    "collapsed": false
   },
   "outputs": [],
   "source": []
  },
  {
   "cell_type": "code",
   "execution_count": null,
   "metadata": {
    "collapsed": true
   },
   "outputs": [],
   "source": []
  }
 ],
 "metadata": {
  "kernelspec": {
   "display_name": "Python 2",
   "language": "python",
   "name": "python2"
  },
  "language_info": {
   "codemirror_mode": {
    "name": "ipython",
    "version": 2
   },
   "file_extension": ".py",
   "mimetype": "text/x-python",
   "name": "python",
   "nbconvert_exporter": "python",
   "pygments_lexer": "ipython2",
   "version": "2.7.11"
  }
 },
 "nbformat": 4,
 "nbformat_minor": 0
}
